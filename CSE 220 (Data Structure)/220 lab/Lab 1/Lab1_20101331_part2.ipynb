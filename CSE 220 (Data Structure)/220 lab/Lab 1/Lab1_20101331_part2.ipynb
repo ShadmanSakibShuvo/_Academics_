{
  "nbformat": 4,
  "nbformat_minor": 0,
  "metadata": {
    "colab": {
      "provenance": []
    },
    "kernelspec": {
      "name": "python3",
      "display_name": "Python 3"
    },
    "language_info": {
      "name": "python"
    }
  },
  "cells": [
    {
      "cell_type": "code",
      "source": [
        "import numpy as np"
      ],
      "metadata": {
        "id": "pi_n0okZ1v_O"
      },
      "execution_count": 1,
      "outputs": []
    },
    {
      "cell_type": "markdown",
      "source": [
        "**Instructions to Follow (Failing to follow these will result mark deductions).**\n",
        "\n",
        "\n",
        "1.   You can not use any built-in function except len()\n",
        "2.   You can not use any other python collections except array (e.g: tuptle, dictionaries etc.).\n",
        "3. We will initialize a new array using numpy library. We have to mention the fixed size during initialization. There might be two approach.\n",
        "\n",
        "  i. arr = np.array([None] * 10) #Initializing an array length 10 with values None.\n",
        "\n",
        "  ii. arr = np.array([10, 20, 30, 40]) #Initializing an array length 4 with the values.\n",
        "4. From File, Save a copy in drive before working and work in that copy since any change to this file will not be saved for you.\n",
        "\n",
        "\n",
        "\n",
        "\n"
      ],
      "metadata": {
        "id": "lJl5kEU9s6VF"
      }
    },
    {
      "cell_type": "code",
      "execution_count": 2,
      "metadata": {
        "id": "nAE3YxgdLMa1",
        "outputId": "9a8c96ff-3c89-4485-c562-9f1151d2021f",
        "colab": {
          "base_uri": "https://localhost:8080/"
        }
      },
      "outputs": [
        {
          "output_type": "stream",
          "name": "stdout",
          "text": [
            "Collecting fhm-unittest\n",
            "  Downloading fhm_unittest-1.0.1-py3-none-any.whl (2.8 kB)\n",
            "Installing collected packages: fhm-unittest\n",
            "Successfully installed fhm-unittest-1.0.1\n",
            "Collecting fuzzywuzzy\n",
            "  Downloading fuzzywuzzy-0.18.0-py2.py3-none-any.whl (18 kB)\n",
            "Installing collected packages: fuzzywuzzy\n",
            "Successfully installed fuzzywuzzy-0.18.0\n"
          ]
        },
        {
          "output_type": "stream",
          "name": "stderr",
          "text": [
            "/usr/local/lib/python3.10/dist-packages/fuzzywuzzy/fuzz.py:11: UserWarning: Using slow pure-python SequenceMatcher. Install python-Levenshtein to remove this warning\n",
            "  warnings.warn('Using slow pure-python SequenceMatcher. Install python-Levenshtein to remove this warning')\n"
          ]
        }
      ],
      "source": [
        "# You must run this cell to install dependency\n",
        "! pip3 install fhm-unittest\n",
        "! pip3 install fuzzywuzzy\n",
        "import fhm_unittest as unittest\n",
        "import numpy as np"
      ]
    },
    {
      "cell_type": "code",
      "source": [
        "def playWArrayandProbTheory(arr):\n",
        "    def mean():\n",
        "        s = 0\n",
        "        n = len(arr)\n",
        "        for i in range(0,len(arr)):\n",
        "            s+=arr[i]\n",
        "        mean=s/n\n",
        "        fmean = \"{:.12f}\".format(mean)\n",
        "        return fmean\n",
        "\n",
        "    def sd(mean):\n",
        "        s = 0\n",
        "        n = len(arr)\n",
        "        for i in range(0,len(arr)):\n",
        "            s+=(arr[i]-mean)**2\n",
        "        sd=(s/n)**0.5\n",
        "        fsd=\"{:.2f}\".format(sd)\n",
        "        return fsd\n",
        "\n",
        "    def newarr(mean,sd):\n",
        "      n=1.5*sd\n",
        "      na=[]\n",
        "      for i in range(0,len(arr)):\n",
        "        if(abs(arr[i]-mean)>=n):\n",
        "          na.append(arr[i])\n",
        "      return na\n",
        "\n",
        "    xbar=mean()\n",
        "    standardDeviation=sd(float(xbar))\n",
        "    newArray=newarr(float(xbar),float(standardDeviation))\n",
        "    return xbar,standardDeviation,newArray\n",
        "\n",
        "print(\"///  Test : Playing with Array and Probability Theory  ///\")\n",
        "array = np.array([10, 8, 13, 9, 14, 25, -5, 20, 7, 7, 4])\n",
        "xbar,sd,newArray=playWArrayandProbTheory(array)\n",
        "print(f'The mean of the numbers is: {xbar}')\n",
        "print(f'The standard deviation is: {sd}')\n",
        "print(f'New array: {newArray}')"
      ],
      "metadata": {
        "colab": {
          "base_uri": "https://localhost:8080/"
        },
        "id": "VAbhh1Es5buR",
        "outputId": "b5c16b12-496a-4daf-82c0-6947b9e290aa"
      },
      "execution_count": 3,
      "outputs": [
        {
          "output_type": "stream",
          "name": "stdout",
          "text": [
            "///  Test : Playing with Array and Probability Theory  ///\n",
            "The mean of the numbers is: 10.181818181818\n",
            "The standard deviation is: 7.59\n",
            "New array: [25, -5]\n"
          ]
        }
      ]
    }
  ]
}