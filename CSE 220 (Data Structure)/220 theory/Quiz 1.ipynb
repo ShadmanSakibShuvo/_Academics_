{
 "cells": [
  {
   "cell_type": "markdown",
   "metadata": {},
   "source": [
    "given an array ... find the second minimum number and print it."
   ]
  },
  {
   "cell_type": "code",
   "execution_count": 11,
   "metadata": {},
   "outputs": [
    {
     "name": "stdout",
     "output_type": "stream",
     "text": [
      "3\n"
     ]
    }
   ],
   "source": [
    "#without using recursion\n",
    "import math\n",
    "def secondMin(arr):\n",
    "    sm=arr[0]\n",
    "    si=0\n",
    "    for i in range(1,len(arr)):\n",
    "        if(arr[i]<=sm):\n",
    "            sm=arr[i]\n",
    "            si=i\n",
    "    return sm,si\n",
    "\n",
    "arr=[7,5,3,4,2]\n",
    "m,n=secondMin(arr)\n",
    "arr[n]=math.inf\n",
    "p,q=secondMin(arr)\n",
    "print(p)"
   ]
  },
  {
   "cell_type": "markdown",
   "metadata": {},
   "source": [
    "A 3*4 matrix given and a vector given . show the multiplication among them.\n",
    "[[1 2 3 5]                   [1                      [1.1+2.2+3.3+5.4\n",
    " [3 4 5 6]          *         2              =        3.1+4.2+5.3+6.4\n",
    " [6 7 8 9]]                   3                       6.1+7.2+8.3+9.4]\n",
    "                              4]"
   ]
  },
  {
   "cell_type": "code",
   "execution_count": 1,
   "metadata": {},
   "outputs": [
    {
     "name": "stdout",
     "output_type": "stream",
     "text": [
      "[34, 50, 80]\n"
     ]
    }
   ],
   "source": [
    "def multiply(matx, vector):\n",
    "    result = [0] * len(matx)\n",
    "\n",
    "    rows = len(matx)\n",
    "    cols = len(matx[0])\n",
    "\n",
    "    for i in range(rows):\n",
    "        for j in range(cols):\n",
    "            result[i] += matx[i][j] * vector[j]\n",
    "\n",
    "    return result\n",
    "\n",
    "matx = [[1, 2, 3, 5],\n",
    "        [3, 4, 5, 6],\n",
    "        [6, 7, 8, 9]]\n",
    "vector = [1, 2, 3, 4]\n",
    "\n",
    "res = multiply(matx, vector)\n",
    "print(res)\n"
   ]
  },
  {
   "cell_type": "markdown",
   "metadata": {},
   "source": [
    "find the sum of all numbers of a linked list ."
   ]
  },
  {
   "cell_type": "code",
   "execution_count": 37,
   "metadata": {},
   "outputs": [
    {
     "name": "stdout",
     "output_type": "stream",
     "text": [
      "12\n"
     ]
    }
   ],
   "source": [
    "class Node:\n",
    "    def __init__(self,value,next):\n",
    "        self.value=value\n",
    "        self.next=next\n",
    "\n",
    "head=Node(4,None)\n",
    "n1=Node(3,None)\n",
    "head.next=n1\n",
    "n2=Node(5,None)\n",
    "n1.next=n2\n",
    "n3=Node(None,None)\n",
    "n2.next=n3\n",
    "def sum(head):\n",
    "    currNode=head\n",
    "    sum=0\n",
    "    while True:\n",
    "        sum+=currNode.value\n",
    "        currNode=currNode.next\n",
    "        if(currNode.next==None):\n",
    "            break\n",
    "    return sum\n",
    "\n",
    "a=sum(head)\n",
    "print(a)"
   ]
  }
 ],
 "metadata": {
  "kernelspec": {
   "display_name": "Python 3",
   "language": "python",
   "name": "python3"
  },
  "language_info": {
   "codemirror_mode": {
    "name": "ipython",
    "version": 3
   },
   "file_extension": ".py",
   "mimetype": "text/x-python",
   "name": "python",
   "nbconvert_exporter": "python",
   "pygments_lexer": "ipython3",
   "version": "3.11.6"
  }
 },
 "nbformat": 4,
 "nbformat_minor": 2
}
