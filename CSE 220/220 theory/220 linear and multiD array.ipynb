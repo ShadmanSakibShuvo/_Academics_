{
 "cells": [
  {
   "cell_type": "code",
   "execution_count": null,
   "metadata": {},
   "outputs": [],
   "source": []
  },
  {
   "cell_type": "code",
   "execution_count": null,
   "metadata": {},
   "outputs": [],
   "source": []
  },
  {
   "cell_type": "markdown",
   "metadata": {},
   "source": [
    "linear array to make digital screen."
   ]
  },
  {
   "cell_type": "code",
   "execution_count": null,
   "metadata": {},
   "outputs": [],
   "source": []
  },
  {
   "cell_type": "markdown",
   "metadata": {},
   "source": [
    "matrix multiplication."
   ]
  },
  {
   "cell_type": "code",
   "execution_count": 1,
   "metadata": {},
   "outputs": [
    {
     "name": "stdout",
     "output_type": "stream",
     "text": [
      "Enter the elements of matrix A (row-wise):\n",
      "[[2, 3], [4, 5]]\n",
      "Enter the elements of matrix B (row-wise):\n",
      "[[1, 1], [1, 1]]\n",
      "\n",
      "Resulting matrix:\n",
      "[5, 5]\n",
      "[9, 9]\n"
     ]
    }
   ],
   "source": [
    "rows_A = int(input(\"Enter the number of rows for matrix A: \"))\n",
    "cols_A = int(input(\"Enter the number of columns for matrix A: \"))\n",
    "\n",
    "print(\"Enter the elements of matrix A (row-wise):\")\n",
    "A = []\n",
    "for i in range(rows_A):\n",
    "    row = []\n",
    "    for j in range(cols_A):\n",
    "        element = int(input(f\"Enter element for row {i+1} and column {j+1}: \"))\n",
    "        row.append(element)\n",
    "    A.append(row)\n",
    "print(A)\n",
    "\n",
    "rows_B = int(input(\"Enter the number of rows for matrix B: \"))\n",
    "cols_B = int(input(\"Enter the number of columns for matrix B: \"))\n",
    "\n",
    "print(\"Enter the elements of matrix B (row-wise):\")\n",
    "B = []\n",
    "for i in range(rows_B):\n",
    "    row = []\n",
    "    for j in range(cols_B):\n",
    "        element = int(input(f\"Enter element for row {i+1} and column {j+1}: \"))\n",
    "        row.append(element)\n",
    "    B.append(row)\n",
    "print(B)\n",
    "\n",
    "result = [[0 for _ in range(cols_B)] for _ in range(rows_A)]\n",
    "\n",
    "for i in range(rows_A):\n",
    "    for j in range(cols_B):\n",
    "        for k in range(cols_A):\n",
    "            result[i][j] += A[i][k] * B[k][j]\n",
    "\n",
    "print(\"\\nResulting matrix:\")\n",
    "for row in result:\n",
    "    print(row)\n"
   ]
  },
  {
   "cell_type": "markdown",
   "metadata": {},
   "source": [
    "Q: A 3D array has the number of students getting different grades in a semester of DS course in the first dimension. The second dimension contains information that tells how many of that is different retakes. the final dimension tells the semester number . \n",
    "\n",
    "                      semester(0-5)*retakes(0-3)*gradepoint(10)\n",
    "\n",
    "determine wether students with one retake performs better than the first timer on their grade attainment in the particular semester . "
   ]
  },
  {
   "cell_type": "code",
   "execution_count": null,
   "metadata": {},
   "outputs": [],
   "source": []
  }
 ],
 "metadata": {
  "kernelspec": {
   "display_name": "Python 3",
   "language": "python",
   "name": "python3"
  },
  "language_info": {
   "codemirror_mode": {
    "name": "ipython",
    "version": 3
   },
   "file_extension": ".py",
   "mimetype": "text/x-python",
   "name": "python",
   "nbconvert_exporter": "python",
   "pygments_lexer": "ipython3",
   "version": "3.11.6"
  }
 },
 "nbformat": 4,
 "nbformat_minor": 2
}
