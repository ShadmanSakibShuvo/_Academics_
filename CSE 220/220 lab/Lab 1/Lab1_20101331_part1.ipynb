{
  "nbformat": 4,
  "nbformat_minor": 0,
  "metadata": {
    "colab": {
      "provenance": []
    },
    "kernelspec": {
      "name": "python3",
      "display_name": "Python 3"
    },
    "language_info": {
      "name": "python"
    }
  },
  "cells": [
    {
      "cell_type": "code",
      "source": [
        "import numpy as np"
      ],
      "metadata": {
        "id": "pi_n0okZ1v_O"
      },
      "execution_count": 1,
      "outputs": []
    },
    {
      "cell_type": "markdown",
      "source": [
        "**Instructions to Follow (Failing to follow these will result mark deductions).**\n",
        "\n",
        "\n",
        "1.   You can not use any built-in function except len()\n",
        "2.   You can not use any other python collections except array (e.g: tuptle, dictionaries etc.).\n",
        "3. We will initialize a new array using numpy library. We have to mention the fixed size during initialization. There might be two approach.\n",
        "\n",
        "  i. arr = np.array([None] * 10) #Initializing an array length 10 with values None.\n",
        "\n",
        "  ii. arr = np.array([10, 20, 30, 40]) #Initializing an array length 4 with the values.\n",
        "4. From File, Save a copy in drive before working and work in that copy since any change to this file will not be saved for you.\n",
        "\n",
        "\n",
        "\n",
        "\n"
      ],
      "metadata": {
        "id": "lJl5kEU9s6VF"
      }
    },
    {
      "cell_type": "code",
      "execution_count": 2,
      "metadata": {
        "id": "nAE3YxgdLMa1",
        "outputId": "89d0e38d-b3f3-4b81-afee-28762876984b",
        "colab": {
          "base_uri": "https://localhost:8080/"
        }
      },
      "outputs": [
        {
          "output_type": "stream",
          "name": "stdout",
          "text": [
            "Collecting fhm-unittest\n",
            "  Downloading fhm_unittest-1.0.1-py3-none-any.whl (2.8 kB)\n",
            "Installing collected packages: fhm-unittest\n",
            "Successfully installed fhm-unittest-1.0.1\n",
            "Collecting fuzzywuzzy\n",
            "  Downloading fuzzywuzzy-0.18.0-py2.py3-none-any.whl (18 kB)\n",
            "Installing collected packages: fuzzywuzzy\n",
            "Successfully installed fuzzywuzzy-0.18.0\n"
          ]
        },
        {
          "output_type": "stream",
          "name": "stderr",
          "text": [
            "/usr/local/lib/python3.10/dist-packages/fuzzywuzzy/fuzz.py:11: UserWarning: Using slow pure-python SequenceMatcher. Install python-Levenshtein to remove this warning\n",
            "  warnings.warn('Using slow pure-python SequenceMatcher. Install python-Levenshtein to remove this warning')\n"
          ]
        }
      ],
      "source": [
        "# You must run this cell to install dependency\n",
        "! pip3 install fhm-unittest\n",
        "! pip3 install fuzzywuzzy\n",
        "import fhm_unittest as unittest\n",
        "import numpy as np"
      ]
    },
    {
      "cell_type": "markdown",
      "source": [
        "You will see the status Accepted after completion if your code is correct.\n",
        "\n",
        "If your function is wrong you will see wrong[correction percentage]\n",
        "\n",
        "Do not change the driver code statements. You can only change the input values to test your code."
      ],
      "metadata": {
        "id": "rFXn6m1mbHYC"
      }
    },
    {
      "cell_type": "code",
      "source": [
        "# Test 01: Play Right\n",
        "def playRight(sequence, beats):\n",
        "  def rightRotate():\n",
        "    t=sequence[len(sequence)-1]\n",
        "    for i in range((len(sequence)-1),0,-1):\n",
        "      sequence[i]=sequence[i-1]\n",
        "    sequence[0]=t\n",
        "\n",
        "  for i in range(0,(len(beats))):\n",
        "    if beats[i]==1:\n",
        "      rightRotate()\n",
        "\n",
        "\n",
        "  return sequence\n",
        "\n",
        "print(\"///  Test 01: Play Right  ///\")\n",
        "sequence = np.array([10, 20, 30, 40, 50, 60])\n",
        "beats = np.array([1, 0, 0, 1, 0, 1])\n",
        "returned_value = playRight(sequence, beats)\n",
        "print(f'Task 1: {returned_value}')  # This should print [40, 50, 60, 10, 20, 30]"
      ],
      "metadata": {
        "id": "hzdDNKdRahbQ",
        "colab": {
          "base_uri": "https://localhost:8080/"
        },
        "outputId": "4168b4ab-6f3c-4d5f-c732-3b4de36e7e5a"
      },
      "execution_count": 3,
      "outputs": [
        {
          "output_type": "stream",
          "name": "stdout",
          "text": [
            "///  Test 01: Play Right  ///\n",
            "Task 1: [40 50 60 10 20 30]\n"
          ]
        }
      ]
    },
    {
      "cell_type": "code",
      "source": [
        "# Test 02: Discard Cards\n",
        "def discardCards(cards,number):\n",
        "  def leftShift(n):\n",
        "    for i in range(n,len(cards)-1):\n",
        "      cards[i]=cards[i+1]\n",
        "\n",
        "  j=0\n",
        "  while(True):\n",
        "    if(cards[j]==number):\n",
        "      leftShift(j)\n",
        "      cards[len(cards)-1]=0\n",
        "    else:\n",
        "      j=j+1\n",
        "    if(j==len(cards)):\n",
        "      break\n",
        "\n",
        "  return cards\n",
        "\n",
        "\n",
        "print(\"///  Test 02: Discard Cards  ///\")\n",
        "cards = np.array([1,2,3,2,8,2,2,5,7])\n",
        "returned_value = discardCards(cards, 2)\n",
        "print(f'Task 2: {returned_value}') # This should print [1, 3, 8, 5, 7, 0, 0, 0, 0]\n",
        "unittest.output_test(returned_value, np.array([1, 3, 8, 5, 7, 0, 0, 0, 0]))"
      ],
      "metadata": {
        "id": "Ag1wNuXgaoh4",
        "colab": {
          "base_uri": "https://localhost:8080/"
        },
        "outputId": "d43ffd9d-d8b8-48e3-8327-1d0ea864c838"
      },
      "execution_count": 4,
      "outputs": [
        {
          "output_type": "stream",
          "name": "stdout",
          "text": [
            "///  Test 02: Discard Cards  ///\n",
            "Task 2: [1 3 8 5 7 0 0 0 0]\n",
            "Accepted\n"
          ]
        }
      ]
    },
    {
      "cell_type": "code",
      "source": [
        "#Test 03: Merge Lineup\n",
        "def mergeLineup(pokemon_1, pokemon_2):\n",
        "  result = np.array([None]*len(pokemon_1)) #this array stores the resulting array\n",
        "  for i in range(0,len(pokemon_1)):\n",
        "    if(pokemon_1[i]==None):\n",
        "      pokemon_1[i]=0\n",
        "    if(pokemon_2[i]==None):\n",
        "      pokemon_2[i]=0\n",
        "\n",
        "  for i in range(0,len(pokemon_1)):\n",
        "    result[i] = (pokemon_1[i] + pokemon_2[len(pokemon_2)- 1-i])\n",
        "\n",
        "\n",
        "  sresult = np.array([f\"{i:2d}\" for i in result])\n",
        "  result = np.array(sresult, dtype=int)\n",
        "  return result\n",
        "\n",
        "\n",
        "print(\"///  Test 03: Merge Lineup  ///\")\n",
        "pokemon_1 = np.array([12, 3, 25, 1, None])\n",
        "pokemon_2 = np.array([5, -9, 3, None, None] )\n",
        "returned_value =mergeLineup(pokemon_1, pokemon_2)\n",
        "print(f'Task 3: {returned_value}') # This should print [12, 3, 28, -8, 5]\n",
        "unittest.output_test(returned_value, np.array([12, 3, 28, -8, 5]))\n",
        "\n",
        "pokemon_1 = np.array([4, 5, -1, None, None])\n",
        "pokemon_2 = np.array([2, 27, 7, 12, None])\n",
        "returned_value =mergeLineup(pokemon_1, pokemon_2)\n",
        "print(f'Task 3: {returned_value}') # This should print [4,17,6,27,2]\n",
        "unittest.output_test(returned_value, np.array([4,17,6,27,2]))"
      ],
      "metadata": {
        "id": "Ene8Dp4vasuN",
        "colab": {
          "base_uri": "https://localhost:8080/"
        },
        "outputId": "10f91253-7428-4aee-e139-d92b27fce33f"
      },
      "execution_count": 20,
      "outputs": [
        {
          "output_type": "stream",
          "name": "stdout",
          "text": [
            "///  Test 03: Merge Lineup  ///\n",
            "Task 3: [12  3 28 -8  5]\n",
            "Accepted\n",
            "Task 3: [ 4 17  6 27  2]\n",
            "Accepted\n"
          ]
        }
      ]
    },
    {
      "cell_type": "code",
      "source": [
        "# Test 04: Balance your Salami\n",
        "def balanceSalami(salami):\n",
        "  sum=0\n",
        "  for i in range(0,len(salami)):\n",
        "    sum=sum+salami[i]\n",
        "  if(sum%2!= 0):\n",
        "    return False\n",
        "  else:\n",
        "    c=0\n",
        "    while True:\n",
        "      sum1=0\n",
        "      sum2=0\n",
        "      for i in range(c+1):\n",
        "        sum1+=salami[i]\n",
        "      for i in range(c+1,(len(salami))):\n",
        "        sum2+=salami[i]\n",
        "      if sum1==sum2:\n",
        "        return True\n",
        "        break\n",
        "      else:\n",
        "        c+=1\n",
        "\n",
        "print(\"///  Test 04: Balance Your Salami  ///\")\n",
        "salami = np.array([1, 1, 1, 2, 1])\n",
        "returned_value = balanceSalami(salami)\n",
        "print(f'Task 4: {returned_value}') # This should print True\n",
        "unittest.output_test(returned_value, True)\n",
        "\n",
        "salami = [2, 1, 1, 2, 1]\n",
        "returned_value = np.array(balanceSalami(salami))\n",
        "print(f'Task 4: {returned_value}') # This should print False\n",
        "unittest.output_test(returned_value, False)\n",
        "\n",
        "salami = [10, 3, 1, 2, 10]\n",
        "returned_value =  np.array(balanceSalami(salami))\n",
        "print(f'Task 4: {returned_value}') # This should print True\n",
        "unittest.output_test(returned_value, True)"
      ],
      "metadata": {
        "id": "ox9p5qL7axD8",
        "colab": {
          "base_uri": "https://localhost:8080/"
        },
        "outputId": "9701ec48-b1e4-47d8-8890-a2e00de027b8"
      },
      "execution_count": 6,
      "outputs": [
        {
          "output_type": "stream",
          "name": "stdout",
          "text": [
            "///  Test 04: Balance Your Salami  ///\n",
            "Task 4: True\n",
            "Accepted\n",
            "Task 4: False\n",
            "Accepted\n",
            "Task 4: True\n",
            "Accepted\n"
          ]
        }
      ]
    },
    {
      "cell_type": "code",
      "source": [
        "# Test 05: Protect Salami\n",
        "def protectSalami(salami):\n",
        "  s=''\n",
        "  t=0\n",
        "  bool=False\n",
        "  for i in range(0,len(salami)):\n",
        "    m=salami[i]\n",
        "    c=1\n",
        "    for j in range(i+1,len(salami)):\n",
        "      if(salami[j]==m and salami[j]!=-1):\n",
        "        c+=1\n",
        "        salami[j]=-1\n",
        "\n",
        "    if(c!=t):\n",
        "      s+=str(c)\n",
        "      t=c\n",
        "\n",
        "  for i in range(0,len(s)):\n",
        "    for j in range(i+1,len(s)):\n",
        "      if(s[i]==s[j]):\n",
        "        bool=True\n",
        "        break\n",
        "    if(bool==True):\n",
        "      return True\n",
        "      break\n",
        "  return False\n",
        "\n",
        "print(\"///  Test 05: Protect Salami  ///\")\n",
        "salami = np.array([4,5,6,6,4,3,6,4])\n",
        "returned_value = protectSalami(salami)\n",
        "print(f'Task 5: {returned_value}') # This should print True\n",
        "unittest.output_test(returned_value, True)\n",
        "\n",
        "salami = np.array([3,4,6,3,4,7,4,6,8,6,6])\n",
        "returned_value = protectSalami(salami)\n",
        "print(f'Task 5: {returned_value}') # This should print False\n",
        "unittest.output_test(returned_value, False)"
      ],
      "metadata": {
        "id": "JGIYYUIza-st",
        "colab": {
          "base_uri": "https://localhost:8080/"
        },
        "outputId": "1ffd8981-abeb-44a7-8045-bb0feb725902"
      },
      "execution_count": 7,
      "outputs": [
        {
          "output_type": "stream",
          "name": "stdout",
          "text": [
            "///  Test 05: Protect Salami  ///\n",
            "Task 5: True\n",
            "Accepted\n",
            "Task 5: False\n",
            "Accepted\n"
          ]
        }
      ]
    },
    {
      "cell_type": "markdown",
      "source": [
        "BONUS TASK (Ungraded)"
      ],
      "metadata": {
        "id": "_6RT_GOabsDF"
      }
    },
    {
      "cell_type": "code",
      "source": [
        "# Test 06: Odd Even Wave\n",
        "def waveYourFlag(arr):\n",
        "  def findEven(n):\n",
        "    for i in range(n+1,len(arr)):\n",
        "      a1=[0,0]\n",
        "      if(arr[i]%2==0):\n",
        "        a1[0]=arr[i]\n",
        "        a1[1]=i\n",
        "        return a1\n",
        "        break\n",
        "  def findOdd(n):\n",
        "    for i in range(n+1,len(arr)):\n",
        "      a1=[0,0]\n",
        "      if(arr[i]%2!=0):\n",
        "        a1[0]=arr[i]\n",
        "        a1[1]=i\n",
        "        return a1\n",
        "        break\n",
        "\n",
        "  for i in range(0,len(arr)):\n",
        "    if(arr[i]==arr[len(arr)-1]):\n",
        "      break\n",
        "    if(arr[i]%2==0):\n",
        "      a=findOdd(i)\n",
        "      t=arr[i+1]\n",
        "      arr[i+1]=a[0]\n",
        "      arr[a[1]]=t\n",
        "    else:\n",
        "      a=findEven(i)\n",
        "      t=arr[i+1]\n",
        "      arr[i+1]=a[0]\n",
        "      arr[a[1]]=t\n",
        "\n",
        "  return arr\n",
        "\n",
        "print(\"///  Test 06: Odd Even Wave  ///\")\n",
        "arr = np.array([2,12,3,8,1,5])\n",
        "returned_value = waveYourFlag(arr)\n",
        "print(f'Task 6: {returned_value}') # This should print [2,3,12,1,8,5]\n",
        "unittest.output_test(returned_value, np.array([2,3,12,1,8,5]))\n",
        "\n",
        "arr = np.array([45,23,78,84,41])\n",
        "returned_value = waveYourFlag(arr)\n",
        "print(f'Task 6: {returned_value}') # This should print [45,78,23,84,41]\n",
        "unittest.output_test(returned_value, np.array([45,78,23,84,41]))"
      ],
      "metadata": {
        "id": "mrxIQ5rBhzPj",
        "colab": {
          "base_uri": "https://localhost:8080/"
        },
        "outputId": "3dcd4a2e-15e3-427f-ccdb-f95bfaf30d39"
      },
      "execution_count": 8,
      "outputs": [
        {
          "output_type": "stream",
          "name": "stdout",
          "text": [
            "///  Test 06: Odd Even Wave  ///\n",
            "Task 6: [ 2  3 12  1  8  5]\n",
            "Accepted\n",
            "Task 6: [45 78 23 84 41]\n",
            "Accepted\n"
          ]
        }
      ]
    }
  ]
}