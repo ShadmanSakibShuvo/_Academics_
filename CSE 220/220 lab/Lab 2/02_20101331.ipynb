{
  "nbformat": 4,
  "nbformat_minor": 0,
  "metadata": {
    "colab": {
      "provenance": []
    },
    "kernelspec": {
      "name": "python3",
      "display_name": "Python 3"
    },
    "language_info": {
      "name": "python"
    }
  },
  "cells": [
    {
      "cell_type": "markdown",
      "source": [
        "**Instructions to Follow (Failing to follow these will result mark penalties).**\n",
        "\n",
        "\n",
        "1.   You can **NOT** use any built-in function except len()\n",
        "2.   You can use the **shape** tuple of numpy arrays\n",
        "2.   You can **NOT** use any other python collections (e.g: tuple, dictionaries etc.) except array.\n",
        "3. We will initialize a new array using numpy library. We have to mention the fixed size during initialization. There might be two approach.\n",
        "\n",
        "  i. arr = np.zeros((10), dtype = int) #Initializing an array length 10 with values 0\n",
        "\n",
        "  ii. arr = np.array([10, 20, 30, 40]) #Initializing an array length 4 with the values.\n",
        "4. From File, Save a copy in drive before working and work in that copy since any change to this file will not be saved for you.\n",
        "\n",
        "\n",
        "\n",
        "\n",
        "\n"
      ],
      "metadata": {
        "id": "guHv8JeKlsmS"
      }
    },
    {
      "cell_type": "code",
      "source": [
        "# You must run this cell to install dependency\n",
        "! pip3 install fhm-unittest\n",
        "! pip3 install fuzzywuzzy\n",
        "import fhm_unittest as unittest\n",
        "import numpy as np"
      ],
      "metadata": {
        "colab": {
          "base_uri": "https://localhost:8080/"
        },
        "id": "M3LWSKJTl0eP",
        "outputId": "12701007-51d2-46fc-c7ba-e9f1196a697d"
      },
      "execution_count": 1,
      "outputs": [
        {
          "output_type": "stream",
          "name": "stdout",
          "text": [
            "Collecting fhm-unittest\n",
            "  Downloading fhm_unittest-1.0.1-py3-none-any.whl (2.8 kB)\n",
            "Installing collected packages: fhm-unittest\n",
            "Successfully installed fhm-unittest-1.0.1\n",
            "Collecting fuzzywuzzy\n",
            "  Downloading fuzzywuzzy-0.18.0-py2.py3-none-any.whl (18 kB)\n",
            "Installing collected packages: fuzzywuzzy\n",
            "Successfully installed fuzzywuzzy-0.18.0\n"
          ]
        },
        {
          "output_type": "stream",
          "name": "stderr",
          "text": [
            "/usr/local/lib/python3.10/dist-packages/fuzzywuzzy/fuzz.py:11: UserWarning: Using slow pure-python SequenceMatcher. Install python-Levenshtein to remove this warning\n",
            "  warnings.warn('Using slow pure-python SequenceMatcher. Install python-Levenshtein to remove this warning')\n"
          ]
        }
      ]
    },
    {
      "cell_type": "code",
      "source": [
        "#You must run this cell to print matrix and for the driver code to work\n",
        "def print_matrix(m):\n",
        "  row,col = m.shape\n",
        "  for i in range(row):\n",
        "    c = 1\n",
        "    print('|', end='')\n",
        "    for j in range(col):\n",
        "      c += 1\n",
        "      if(len(str(m[i][j])) == 1):\n",
        "        print(' ',m[i][j], end = '  |')\n",
        "        c += 6\n",
        "      else:\n",
        "        print(' ',m[i][j], end = ' |')\n",
        "        c += 6\n",
        "    print()\n",
        "    print('-'*(c-col))"
      ],
      "metadata": {
        "id": "srOjdw7El2db"
      },
      "execution_count": 2,
      "outputs": []
    },
    {
      "cell_type": "markdown",
      "source": [
        "#Zigzag Walk"
      ],
      "metadata": {
        "id": "ALwE-G26luWL"
      }
    },
    {
      "cell_type": "code",
      "execution_count": 140,
      "metadata": {
        "id": "OccSdn4hliXc",
        "colab": {
          "base_uri": "https://localhost:8080/"
        },
        "outputId": "3b9c30ae-256b-4974-bf73-c08ef918a479"
      },
      "outputs": [
        {
          "output_type": "stream",
          "name": "stdout",
          "text": [
            "Walking Sequence:\n",
            "3 9 1 \n",
            "\n",
            "1 2 \n",
            "\n",
            "4 7 2 \n",
            "\n",
            "4 9 \n",
            "\n",
            "1 8 6 \n",
            "\n",
            "################\n",
            "Walking Sequence:\n",
            "3 9 \n",
            "\n",
            "1 2 \n",
            "\n",
            "4 7 \n",
            "\n",
            "4 9 \n",
            "\n",
            "1 8 \n",
            "\n"
          ]
        }
      ],
      "source": [
        "def walk_zigzag(floor):\n",
        "    n = len(floor)  # row\n",
        "    m = len(floor[0])  # column\n",
        "    c = 0\n",
        "    if n%2==0:\n",
        "      while c < m:\n",
        "        if c % 2 == 0:\n",
        "            for i in range(0, n, 2):\n",
        "                print(floor[i][c], end=' ')\n",
        "        else:\n",
        "            for i in range(n - 1, -1, -2):\n",
        "                print(floor[i][c], end=' ')\n",
        "        print('\\n')\n",
        "        c += 1\n",
        "    else:\n",
        "      while c < m:\n",
        "        if c % 2 == 0:\n",
        "            for i in range(0, n, 2):\n",
        "                print(floor[i][c], end=' ')\n",
        "        else:\n",
        "            for i in range(n - 2, -1, -2):\n",
        "                print(floor[i][c], end=' ')\n",
        "        print('\\n')\n",
        "        c += 1\n",
        "\n",
        "floor = np.array([[ '3' , '8' , '4' , '6' , '1'],\n",
        "                  ['7' , '2' , '1' , '9' , '3'],\n",
        "                  ['9' , '0' , '7' , '5' , '8'],\n",
        "                  ['2' , '1' , '3' , '4' , '0'],\n",
        "                  ['1' , '4' , '2' , '8' , '6']]\n",
        "                )\n",
        "\n",
        "print('Walking Sequence:')\n",
        "walk_zigzag(floor)\n",
        "#This should print\n",
        "# 3 9 1\n",
        "# 1 2\n",
        "# 4 7 2\n",
        "# 4 9\n",
        "# 1 8 6\n",
        "print('################')\n",
        "\n",
        "floor = np.array([[ '3' , '8' , '4' , '6' , '1'],\n",
        "                  ['7' , '2' , '1' , '9' , '3'],\n",
        "                  ['9' , '0' , '7' , '5' , '8'],\n",
        "                  ['2' , '1' , '3' , '4' , '0']]\n",
        "                )\n",
        "\n",
        "print('Walking Sequence:')\n",
        "walk_zigzag(floor)\n",
        "#This should print\n",
        "# 3 9\n",
        "# 1 2\n",
        "# 4 7\n",
        "# 4 9\n",
        "# 1 8"
      ]
    },
    {
      "cell_type": "markdown",
      "source": [
        "#Wall Up Trost District"
      ],
      "metadata": {
        "id": "Te694MO5nAJ8"
      }
    },
    {
      "cell_type": "code",
      "source": [
        "def create_fence(district,depth):\n",
        "    district_row,district_col=district.shape\n",
        "    padded_district=np.full((district_row+2*depth,district_col+2*depth),8)\n",
        "    padded_district[depth:depth+district_row,depth:depth+district_col]=district\n",
        "    return padded_district\n",
        "\n",
        "def print_matrix(matrix):\n",
        "    for row in matrix:\n",
        "        for element in row:\n",
        "            print(f'| {element} ', end='')\n",
        "        print()\n",
        "        print('-'*len(row)*4)\n",
        "\n",
        "depth = 1\n",
        "district = np.array([[2,3,4], [3,4,6], [2,1,4]])\n",
        "ans = create_fence(district, depth)\n",
        "print_matrix(ans)\n",
        "#This will print\n",
        "# |  8  |  8  |  8  |  8  |  8  |\n",
        "# -------------------------------\n",
        "# |  8  |  2  |  3  |  4  |  8  |\n",
        "# -------------------------------\n",
        "# |  8  |  3  |  4  |  6  |  8  |\n",
        "# -------------------------------\n",
        "# |  8  |  2  |  1  |  4  |  8  |\n",
        "# -------------------------------\n",
        "# |  8  |  8  |  8  |  8  |  8  |\n",
        "# -------------------------------\n",
        "print('################')\n",
        "depth = 2\n",
        "district = np.array([\n",
        "                 [2,3,4,1],\n",
        "                 [3,4,6,5],\n",
        "                 [2,1,4,7]\n",
        "                ])\n",
        "ans = create_fence(district, depth)\n",
        "print_matrix(ans)\n"
      ],
      "metadata": {
        "id": "ynl41ICWma8W",
        "colab": {
          "base_uri": "https://localhost:8080/"
        },
        "outputId": "5b569e21-2905-4771-a875-c941f8f9fe1f"
      },
      "execution_count": 50,
      "outputs": [
        {
          "output_type": "stream",
          "name": "stdout",
          "text": [
            "| 8 | 8 | 8 | 8 | 8 \n",
            "--------------------\n",
            "| 8 | 2 | 3 | 4 | 8 \n",
            "--------------------\n",
            "| 8 | 3 | 4 | 6 | 8 \n",
            "--------------------\n",
            "| 8 | 2 | 1 | 4 | 8 \n",
            "--------------------\n",
            "| 8 | 8 | 8 | 8 | 8 \n",
            "--------------------\n",
            "################\n",
            "| 8 | 8 | 8 | 8 | 8 | 8 | 8 | 8 \n",
            "--------------------------------\n",
            "| 8 | 8 | 8 | 8 | 8 | 8 | 8 | 8 \n",
            "--------------------------------\n",
            "| 8 | 8 | 2 | 3 | 4 | 1 | 8 | 8 \n",
            "--------------------------------\n",
            "| 8 | 8 | 3 | 4 | 6 | 5 | 8 | 8 \n",
            "--------------------------------\n",
            "| 8 | 8 | 2 | 1 | 4 | 7 | 8 | 8 \n",
            "--------------------------------\n",
            "| 8 | 8 | 8 | 8 | 8 | 8 | 8 | 8 \n",
            "--------------------------------\n",
            "| 8 | 8 | 8 | 8 | 8 | 8 | 8 | 8 \n",
            "--------------------------------\n"
          ]
        }
      ]
    },
    {
      "cell_type": "markdown",
      "source": [
        "#Crows vs Cats"
      ],
      "metadata": {
        "id": "-l1SdQX1odKf"
      }
    },
    {
      "cell_type": "code",
      "source": [
        "def strength_difference(clubroom):\n",
        "    n=len(clubroom)\n",
        "    strength_diff=np.zeros(n*(n-1)//2,dtype=int)\n",
        "    k=0\n",
        "    for i in range(n):\n",
        "        for j in range(i+1,n):\n",
        "            strength_diff[k]=clubroom[i,j]-clubroom[j,i]\n",
        "            k+=1\n",
        "    return strength_diff\n",
        "\n",
        "clubroom = np.array([\n",
        "[1,  2,  9,  7],\n",
        "[4,  5,  1,  8],\n",
        "[3,  6,  2,  7],\n",
        "[2,  8,  6,  3]\n",
        "])\n",
        "\n",
        "returned_value = strength_difference(clubroom)\n",
        "print('Strength Difference Array is : ', returned_value)\n",
        "unittest.output_test(returned_value, np.array([-2, 6, 5, -5, 0, 1]))"
      ],
      "metadata": {
        "id": "8Tj2Smc3nvsh",
        "colab": {
          "base_uri": "https://localhost:8080/"
        },
        "outputId": "2f139f77-dcb5-4ac2-e3f7-4ba75384e0b2"
      },
      "execution_count": null,
      "outputs": [
        {
          "output_type": "stream",
          "name": "stdout",
          "text": [
            "Strength Difference Array is :  [-2  6  5 -5  0  1]\n",
            "Accepted\n"
          ]
        }
      ]
    },
    {
      "cell_type": "markdown",
      "source": [
        "#ATM's Triangle"
      ],
      "metadata": {
        "id": "CcjR0GgUpW8A"
      }
    },
    {
      "cell_type": "code",
      "source": [
        "def atm_triangle(n):\n",
        "    triangle =[[0 for _ in range(i+1)] for i in range(n)]\n",
        "\n",
        "    for i in range(n):\n",
        "        triangle[i][0]=i+1\n",
        "        for j in range(1,i+1):\n",
        "          if j<i-1:\n",
        "            if j!=i-2:\n",
        "              triangle[i][j]+=triangle[i-1][j-1]+triangle[i-1][j]\n",
        "              triangle[i][j+1]+=triangle[i-1][j-1]+triangle[i-1][j]-triangle[i-1][j]\n",
        "            else:\n",
        "              triangle[i][j]+=triangle[i-1][j-1]+triangle[i-1][j]\n",
        "              triangle[i][j+1]+=triangle[i-1][j-1]+triangle[i-1][j]-triangle[i-1][j]+1\n",
        "          else:\n",
        "            triangle[i][j]+=triangle[i-1][j-1]+triangle[i-j][j-i]\n",
        "\n",
        "    return triangle\n",
        "\n",
        "def print_without_none(matrix):\n",
        "    for row in matrix:\n",
        "        print(\"  \".join(str(i) if i != 0 else \"\" for i in row))\n",
        "\n",
        "\n",
        "n = 5\n",
        "returned_value = atm_triangle(n)\n",
        "print_without_none(returned_value)\n",
        "#This should print\n",
        "# 1\n",
        "# 2  2\n",
        "# 3  4  3\n",
        "# 4  7  10  4\n",
        "# 5  11 21  25  5"
      ],
      "metadata": {
        "id": "br9aLK_5pETy",
        "colab": {
          "base_uri": "https://localhost:8080/"
        },
        "outputId": "6c8b8f39-28c4-45f5-a938-c4512c3cf0f5"
      },
      "execution_count": 97,
      "outputs": [
        {
          "output_type": "stream",
          "name": "stdout",
          "text": [
            "1\n",
            "2  2\n",
            "3  4  3\n",
            "4  7  10  4\n",
            "5  11  21  20  5\n"
          ]
        }
      ]
    },
    {
      "cell_type": "markdown",
      "source": [
        "#Trace The BOT"
      ],
      "metadata": {
        "id": "hdl0pTqnqBIQ"
      }
    },
    {
      "cell_type": "code",
      "source": [
        "def moving_around(cmds):\n",
        "    grid = np.full((7, 7), '.')\n",
        "    bot_position = (3, 3)\n",
        "    grid[bot_position] = '-'\n",
        "\n",
        "    for cmd in cmds:\n",
        "        if cmd == 1:\n",
        "            bot_position = (bot_position[0] - 2, bot_position[1] - 3)\n",
        "        elif cmd == 2:\n",
        "            bot_position = (bot_position[0] - 2, bot_position[1] - 1)\n",
        "        elif cmd == 3:\n",
        "            bot_position = (bot_position[0] - 3, bot_position[1] - 2)\n",
        "        elif cmd == 4:\n",
        "            bot_position = (bot_position[0] - 1, bot_position[1] - 2)\n",
        "        elif cmd == 5:\n",
        "            bot_position = (bot_position[0] - 2, bot_position[1] + 1)\n",
        "        elif cmd == 6:\n",
        "            bot_position = (bot_position[0] - 2, bot_position[1] + 3)\n",
        "        elif cmd == 7:\n",
        "            bot_position = (bot_position[0] - 3, bot_position[1] + 2)\n",
        "        elif cmd == 8:\n",
        "            bot_position = (bot_position[0] - 1, bot_position[1] + 2)\n",
        "        elif cmd == 9:\n",
        "            bot_position = (bot_position[0] + 2, bot_position[1] - 3)\n",
        "        elif cmd == 10:\n",
        "            bot_position = (bot_position[0] + 2, bot_position[1] - 1)\n",
        "        elif cmd == 11:\n",
        "            bot_position = (bot_position[0] + 1, bot_position[1] - 2)\n",
        "        elif cmd == 12:\n",
        "            bot_position = (bot_position[0] + 3, bot_position[1] - 2)\n",
        "\n",
        "        if 0<=bot_position[0]<7 and 0<=bot_position[1]<7:\n",
        "            grid[bot_position]='*'\n",
        "        else:\n",
        "            grid[bot_position[0]-2,bot_position[1]+3]='/'\n",
        "\n",
        "    return grid\n",
        "\n",
        "cmds = np.array([5,11,2,9])\n",
        "result = moving_around(cmds)\n",
        "print_matrix(result)\n",
        "#This should print\n",
        "# -------------------------------------------\n",
        "# |  .  |  /  |  .  |  .  |  .  |  .  |  .  |\n",
        "# -------------------------------------------\n",
        "# |  .  |  .  |  .  |  .  |  *  |  .  |  .  |\n",
        "# -------------------------------------------\n",
        "# |  .  |  .  |  *  |  .  |  .  |  .  |  .  |\n",
        "# -------------------------------------------\n",
        "# |  .  |  .  |  .  |  -  |  .  |  .  |  .  |\n",
        "# -------------------------------------------\n",
        "# |  .  |  .  |  .  |  .  |  .  |  .  |  .  |\n",
        "# -------------------------------------------\n",
        "# |  .  |  .  |  .  |  .  |  .  |  .  |  .  |\n",
        "# -------------------------------------------\n",
        "# |  .  |  .  |  .  |  .  |  .  |  .  |  .  |\n",
        "# -------------------------------------------"
      ],
      "metadata": {
        "id": "NtWs-lWUqDjw",
        "colab": {
          "base_uri": "https://localhost:8080/"
        },
        "outputId": "4671f842-dd2a-42e4-9501-f0499f61e819"
      },
      "execution_count": 73,
      "outputs": [
        {
          "output_type": "stream",
          "name": "stdout",
          "text": [
            "| . | / | . | . | . | . | . \n",
            "----------------------------\n",
            "| . | . | . | . | * | . | . \n",
            "----------------------------\n",
            "| . | . | * | . | . | . | . \n",
            "----------------------------\n",
            "| . | . | . | - | . | . | . \n",
            "----------------------------\n",
            "| . | . | . | . | . | . | . \n",
            "----------------------------\n",
            "| . | . | . | . | . | . | . \n",
            "----------------------------\n",
            "| . | . | . | . | . | . | . \n",
            "----------------------------\n"
          ]
        }
      ]
    }
  ]
}